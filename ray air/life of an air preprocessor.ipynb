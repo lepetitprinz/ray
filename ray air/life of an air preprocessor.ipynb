{
 "cells": [
  {
   "cell_type": "markdown",
   "id": "80ff0ad7",
   "metadata": {},
   "source": [
    "### Trainer"
   ]
  },
  {
   "cell_type": "code",
   "execution_count": 1,
   "id": "93623e9c",
   "metadata": {},
   "outputs": [],
   "source": [
    "import ray\n",
    "\n",
    "from ray.data.preprocessors import MinMaxScaler\n",
    "from ray.train.xgboost import XGBoostTrainer\n",
    "from ray.air.config import ScalingConfig"
   ]
  },
  {
   "cell_type": "code",
   "execution_count": 6,
   "id": "34b00b74",
   "metadata": {
    "collapsed": true
   },
   "outputs": [
    {
     "data": {
      "text/html": [
       "== Status ==<br>Current time: 2022-10-17 21:49:51 (running for 00:00:14.34)<br>Memory usage on this node: 9.4/16.0 GiB<br>Using FIFO scheduling algorithm.<br>Resources requested: 0/8 CPUs, 0/0 GPUs, 0.0/5.17 GiB heap, 0.0/2.0 GiB objects<br>Result logdir: /Users/yjkim/ray_results/XGBoostTrainer_2022-10-17_21-49-29<br>Number of trials: 1/1 (1 TERMINATED)<br><table>\n",
       "<thead>\n",
       "<tr><th>Trial name                </th><th>status    </th><th>loc            </th><th style=\"text-align: right;\">  iter</th><th style=\"text-align: right;\">  total time (s)</th><th style=\"text-align: right;\">  train-rmse</th><th style=\"text-align: right;\">  valid-rmse</th></tr>\n",
       "</thead>\n",
       "<tbody>\n",
       "<tr><td>XGBoostTrainer_23b41_00000</td><td>TERMINATED</td><td>127.0.0.1:14321</td><td style=\"text-align: right;\">    11</td><td style=\"text-align: right;\">         9.62486</td><td style=\"text-align: right;\">     3.34358</td><td style=\"text-align: right;\">     4.80537</td></tr>\n",
       "</tbody>\n",
       "</table><br><br>"
      ],
      "text/plain": [
       "<IPython.core.display.HTML object>"
      ]
     },
     "metadata": {},
     "output_type": "display_data"
    },
    {
     "name": "stdout",
     "output_type": "stream",
     "text": [
      "\u001b[2m\u001b[1m\u001b[36m(scheduler +3m25s)\u001b[0m Tip: use `ray status` to view detailed cluster status. To disable these messages, set RAY_SCHEDULER_EVENTS=0.\n",
      "\u001b[2m\u001b[1m\u001b[33m(scheduler +3m25s)\u001b[0m Warning: The following resource request cannot be scheduled right now: {'CPU': 1.0}. This is likely due to all cluster resources being claimed by actors. Consider creating fewer actors or adding more nodes to this Ray cluster.\n"
     ]
    },
    {
     "name": "stderr",
     "output_type": "stream",
     "text": [
      "\u001b[2m\u001b[36m(_RemoteRayXGBoostActor pid=14348)\u001b[0m [21:49:49] task [xgboost.ray]:140469835001184 got new rank 3\n",
      "\u001b[2m\u001b[36m(_RemoteRayXGBoostActor pid=14346)\u001b[0m [21:49:49] task [xgboost.ray]:140649986649488 got new rank 1\n",
      "\u001b[2m\u001b[36m(_RemoteRayXGBoostActor pid=14345)\u001b[0m [21:49:49] task [xgboost.ray]:140339096452304 got new rank 0\n",
      "\u001b[2m\u001b[36m(_RemoteRayXGBoostActor pid=14347)\u001b[0m [21:49:49] task [xgboost.ray]:140488339225904 got new rank 2\n"
     ]
    },
    {
     "name": "stdout",
     "output_type": "stream",
     "text": [
      "Result for XGBoostTrainer_23b41_00000:\n",
      "  date: 2022-10-17_21-49-51\n",
      "  done: false\n",
      "  experiment_id: 42df304aac4f490fbe707ec138dadb92\n",
      "  hostname: YONGJINs-MacBook-Pro.local\n",
      "  iterations_since_restore: 1\n",
      "  node_ip: 127.0.0.1\n",
      "  pid: 14321\n",
      "  time_since_restore: 9.355885982513428\n",
      "  time_this_iter_s: 9.355885982513428\n",
      "  time_total_s: 9.355885982513428\n",
      "  timestamp: 1666010991\n",
      "  timesteps_since_restore: 0\n",
      "  train-rmse: 26.757627185845564\n",
      "  training_iteration: 1\n",
      "  trial_id: 23b41_00000\n",
      "  valid-rmse: 28.41558771704671\n",
      "  warmup_time: 0.007151126861572266\n",
      "  \n",
      "Result for XGBoostTrainer_23b41_00000:\n",
      "  date: 2022-10-17_21-49-51\n",
      "  done: true\n",
      "  experiment_id: 42df304aac4f490fbe707ec138dadb92\n",
      "  experiment_tag: '0'\n",
      "  hostname: YONGJINs-MacBook-Pro.local\n",
      "  iterations_since_restore: 11\n",
      "  node_ip: 127.0.0.1\n",
      "  pid: 14321\n",
      "  time_since_restore: 9.624855041503906\n",
      "  time_this_iter_s: 0.1621711254119873\n",
      "  time_total_s: 9.624855041503906\n",
      "  timestamp: 1666010991\n",
      "  timesteps_since_restore: 0\n",
      "  train-rmse: 3.3435785038526604\n",
      "  training_iteration: 11\n",
      "  trial_id: 23b41_00000\n",
      "  valid-rmse: 4.805372691443562\n",
      "  warmup_time: 0.007151126861572266\n",
      "  \n"
     ]
    },
    {
     "name": "stderr",
     "output_type": "stream",
     "text": [
      "2022-10-17 21:49:51,546\tINFO tune.py:758 -- Total run time: 22.20 seconds (14.33 seconds for the tuning loop).\n"
     ]
    }
   ],
   "source": [
    "train_dataset = ray.data.from_items([{\"x\": x, \"y\": 2 * x} for x in range(0, 32, 3)])\n",
    "valid_dataset = ray.data.from_items([{\"x\": x, \"y\": 2 * x} for x in range(1, 32, 3)])\n",
    "\n",
    "preprocessor = MinMaxScaler(['x'])\n",
    "\n",
    "trainer = XGBoostTrainer(\n",
    "    label_column='y',\n",
    "    params={'objective': 'reg:squarederror'},\n",
    "    scaling_config=ScalingConfig(num_workers=4),\n",
    "    datasets={'train': train_dataset, 'valid': valid_dataset},\n",
    "    preprocessor=preprocessor\n",
    ")\n",
    "result = trainer.fit()"
   ]
  },
  {
   "cell_type": "markdown",
   "id": "4c999e3f",
   "metadata": {},
   "source": [
    "### Checkpoint"
   ]
  },
  {
   "cell_type": "code",
   "execution_count": 7,
   "id": "a88ecb89",
   "metadata": {},
   "outputs": [
    {
     "name": "stdout",
     "output_type": "stream",
     "text": [
      "MinMaxScaler(columns=['x'])\n"
     ]
    }
   ],
   "source": [
    "import os\n",
    "import ray.cloudpickle as cpickle\n",
    "from ray.air.constants import PREPROCESSOR_KEY\n",
    "\n",
    "checkpoint = result.checkpoint\n",
    "with checkpoint.as_directory() as checkpoint_path:\n",
    "    path = os.path.join(checkpoint_path, PREPROCESSOR_KEY)\n",
    "    with open(path, 'rb') as f:\n",
    "        preprocessor = cpickle.load(f)\n",
    "    print(preprocessor)"
   ]
  },
  {
   "cell_type": "code",
   "execution_count": 8,
   "id": "b5c9a1b2",
   "metadata": {},
   "outputs": [
    {
     "data": {
      "text/plain": [
       "'/Users/yjkim/ray_results/XGBoostTrainer_2022-10-17_21-49-29/XGBoostTrainer_23b41_00000_0_2022-10-17_21-49-37/checkpoint_000010/_preprocessor'"
      ]
     },
     "execution_count": 8,
     "metadata": {},
     "output_type": "execute_result"
    }
   ],
   "source": [
    "path"
   ]
  },
  {
   "cell_type": "markdown",
   "id": "ddaa3942",
   "metadata": {},
   "source": [
    "### predictor"
   ]
  },
  {
   "cell_type": "code",
   "execution_count": 9,
   "id": "81441896",
   "metadata": {
    "collapsed": true
   },
   "outputs": [
    {
     "name": "stderr",
     "output_type": "stream",
     "text": [
      "Map Progress (1 actors 1 pending): 100%|████████| 10/10 [00:03<00:00,  2.83it/s]"
     ]
    },
    {
     "name": "stdout",
     "output_type": "stream",
     "text": [
      "{'predictions': 0.09843720495700836}\n",
      "{'predictions': 5.604666709899902}\n",
      "{'predictions': 11.405311584472656}\n",
      "{'predictions': 15.684700012207031}\n",
      "{'predictions': 23.990947723388672}\n",
      "{'predictions': 29.900211334228516}\n",
      "{'predictions': 34.59944152832031}\n",
      "{'predictions': 40.6968994140625}\n",
      "{'predictions': 45.68107604980469}\n",
      "{'predictions': 50.29003143310547}\n"
     ]
    },
    {
     "name": "stderr",
     "output_type": "stream",
     "text": [
      "\n"
     ]
    }
   ],
   "source": [
    "from ray.train.batch_predictor import BatchPredictor\n",
    "from ray.train.xgboost import XGBoostPredictor\n",
    "\n",
    "test_dataset = ray.data.from_items([{\"x\": x} for x in range(2, 32, 3)])\n",
    "\n",
    "batch_predictor = BatchPredictor.from_checkpoint(checkpoint, XGBoostPredictor)\n",
    "predicted_probabilities = batch_predictor.predict(test_dataset)\n",
    "predicted_probabilities.show()"
   ]
  },
  {
   "cell_type": "code",
   "execution_count": 14,
   "id": "00dd863a",
   "metadata": {},
   "outputs": [
    {
     "name": "stdout",
     "output_type": "stream",
     "text": [
      "14\n",
      "44433355556666\n",
      "HELO\n"
     ]
    }
   ],
   "source": [
    "keyboards = {\n",
    "\t'1': ['1', '.',',','?','!'],\n",
    "\t'2': ['2', 'A','B','C'],\n",
    "\t'3': ['3', 'D','E','F'],\n",
    "\t'4': ['4', 'G','H','I'],\n",
    "\t'5': ['5', 'J','K','L'],\n",
    "\t'6': ['6', 'M','N','O'],\n",
    "\t'7': ['7', 'P','Q','R','S'],\n",
    "\t'8': ['8', 'T','U','V'],\n",
    "\t'9': ['9', 'W','X','Y','Z']\n",
    "}\n",
    "\n",
    "def cnt_seq(n, seq): \n",
    "    seq_cnt = []\n",
    "    prev_val = seq[0]\n",
    "    prev_cnt = 1\n",
    "    for i, s in enumerate(seq[1:]):\n",
    "        if s == prev_val:\n",
    "            prev_cnt += 1\n",
    "        else:\n",
    "            seq_cnt.append((prev_val, prev_cnt))\n",
    "            prev_val = s\n",
    "            prev_cnt = 1\n",
    "\n",
    "    else:\n",
    "        seq_cnt.append((prev_val, prev_cnt))\n",
    "\n",
    "    return seq_cnt\n",
    "\n",
    "def get_key_seq(seq_cnt, keyboards):\n",
    "    key = []\n",
    "    for num, cnt in seq_cnt:\n",
    "        num_seq = keyboards[num]\n",
    "        key.append(num_seq[cnt % len(num_seq) - 1])\n",
    "    \n",
    "    return ''.join(key)\n",
    "\n",
    "n = int(input())\n",
    "seq = input()\n",
    "\n",
    "seq_cnt = cnt_seq(n, seq)\n",
    "result = get_key_seq(seq_cnt, keyboards)\n",
    "print(result)"
   ]
  },
  {
   "cell_type": "code",
   "execution_count": null,
   "id": "c226c05e",
   "metadata": {},
   "outputs": [],
   "source": []
  }
 ],
 "metadata": {
  "kernelspec": {
   "display_name": "Python 3 (ipykernel)",
   "language": "python",
   "name": "python3"
  },
  "language_info": {
   "codemirror_mode": {
    "name": "ipython",
    "version": 3
   },
   "file_extension": ".py",
   "mimetype": "text/x-python",
   "name": "python",
   "nbconvert_exporter": "python",
   "pygments_lexer": "ipython3",
   "version": "3.8.10"
  }
 },
 "nbformat": 4,
 "nbformat_minor": 5
}
